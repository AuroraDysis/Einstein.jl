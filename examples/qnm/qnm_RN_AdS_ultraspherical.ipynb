{
 "cells": [
  {
   "cell_type": "markdown",
   "metadata": {},
   "source": [
    "# Calculate scalar QNMs of RN AdS black hole using the ultraspherical spectral method\n",
    "\n",
    "We are interested in scalar perturbations of a Reissner-Nordström-AdS (RNAdS) black hole metric:\n",
    "\n",
    "$$ds^2 = f(r)dt^2 - \\frac{dr^2}{f(r)} - r^2(d\\theta^2 + \\sin^2\\theta d\\phi^2),$$ \n",
    "\n",
    "where $f(r) = \\Delta/r^2$ and $\\Delta = r^2 - 2Mr + Q^2 + r^4/R^2$. Here, $M$ denotes the black hole mass, $Q$ the charge, and $R$ the AdS radius.\n",
    "\n",
    "## References\n",
    "\n",
    "- [[gr-qc/0301052] Quasinormal modes of Reissner-Nordström-anti-de Sitter black holes: scalar, electromagnetic and gravitational perturbations](https://arxiv.org/abs/gr-qc/0301052)\n",
    "- [[2209.09324] Calculating quasinormal modes of Schwarzschild anti-de Sitter black holes using the continued fraction method](https://arxiv.org/abs/2209.09324)\n",
    "- [[hep-th/0003295] Quasinormal modes of Reissner-Nordström Anti-de Sitter Black Holes](https://arxiv.org/abs/hep-th/0003295)\n",
    "- [[1202.1347] A fast and well-conditioned spectral method](https://arxiv.org/abs/1202.1347)"
   ]
  },
  {
   "cell_type": "code",
   "execution_count": 4,
   "metadata": {},
   "outputs": [],
   "source": [
    "using ApproxFun, LinearAlgebra, Markdown"
   ]
  },
  {
   "cell_type": "markdown",
   "metadata": {},
   "source": [
    "We use `Float64` by default to obtain high accuracy results. For even higher precision, `Double64` (requires the `DoubleFloats.jl` package), `BigFloat`, or other types can be used."
   ]
  },
  {
   "cell_type": "code",
   "execution_count": 6,
   "metadata": {},
   "outputs": [
    {
     "data": {
      "text/plain": [
       "Float64"
      ]
     },
     "metadata": {},
     "output_type": "display_data"
    }
   ],
   "source": [
    "TF = Float64"
   ]
  },
  {
   "cell_type": "markdown",
   "metadata": {},
   "source": [
    "We choose units such that $R = 1$. The extremal value of the black hole charge, $Q_{\\text{ext}}$, is given by the following function of the hole's horizon radius:\n",
    "\n",
    "$$Q_{\\text{ext}}^2 = r_{+}^2 \\left(1 + \\frac{3 r_{+}^2}{R^2}\\right) \\,.$$\n",
    "\n",
    "The black hole mass relates to its charge $Q$ and horizon radius $r_+$ via:  \n",
    "\n",
    "$$M = \\frac{1}{2}\\left(r_+ + \\frac{r_+^3}{R^2} + \\frac{Q^2}{r_+}\\right).$$"
   ]
  },
  {
   "cell_type": "code",
   "execution_count": 37,
   "metadata": {},
   "outputs": [
    {
     "data": {
      "text/latex": [
       "Black Hole Parameters: $R = 1.0,\\, r_+ = 1.0,\\, M = 1.0,\\, Q = 0.0,\\, Q_\\text{ext} = 2.0,\\, Q / Q_\\text{ext} = 0.0$\n",
       "\n"
      ],
      "text/markdown": [
       "Black Hole Parameters: $R = 1.0,\\, r_+ = 1.0,\\, M = 1.0,\\, Q = 0.0,\\, Q_\\text{ext} = 2.0,\\, Q / Q_\\text{ext} = 0.0$\n"
      ],
      "text/plain": [
       "  Black Hole Parameters: \u001b[35mR = 1.0,\\, r_+ = 1.0,\\, M = 1.0,\\, Q = 0.0,\\,\n",
       "  Q_\\text{ext} = 2.0,\\, Q / Q_\\text{ext} = 0.0\u001b[39m"
      ]
     },
     "metadata": {},
     "output_type": "display_data"
    }
   ],
   "source": [
    "# AdS Radius\n",
    "R = one(TF)\n",
    "# horizon radius\n",
    "r₊ = parse(TF, \"1.0\")\n",
    "# black hole charge\n",
    "Q = parse(TF, \"0.0\")\n",
    "\n",
    "M = (r₊ + r₊^3 / R^2 + Q^2 / r₊) / 2\n",
    "Qext = r₊ * sqrt(1 + 3 * r₊^2 / R^2)\n",
    "\n",
    "if Q < Qext\n",
    "    Markdown.parse(\"Black Hole Parameters:\\n\\$R = $R,\\\\, r_+ = $r₊,\\\\, M = $M,\\\\, Q = $Q,\\\\, Q_\\\\text{ext} = $Qext,\\\\, Q / Q_\\\\text{ext} = $(Q / Qext)\\$\")\n",
    "else\n",
    "    # Q is out of range\n",
    "    Markdown.parse(\"Black Hole Parameters: Q is out of range!\\n\\$R = $R,\\\\, r_+ = $r₊,\\\\, M = $M,\\\\, Q = $Q,\\\\, Q_\\\\text{ext} = $Qext,\\\\, Q / Q_\\\\text{ext} = $(Q / Qext)\\$\")\n",
    "end"
   ]
  },
  {
   "cell_type": "markdown",
   "metadata": {},
   "source": [
    "The radial part of scalar perturbations satisfies the wave equation:  \n",
    "\n",
    "$$\\frac{d^2 \\psi}{dr_*^2} + \\left(\\omega^2 - V\\right)\\psi = 0,$$  \n",
    "\n",
    "with potential:\n",
    "\n",
    "$$V = f(r)\\left[\\frac{l(l+1)}{r^2} + \\frac{f'(r)}{r}\\right].$$  \n",
    "\n",
    "Boundary conditions enforce ingoing waves at the horizon and no outgoing waves at infinity:\n",
    "\n",
    "$$\\psi(r) \\approx \\begin{cases}  \n",
    "e^{-i\\omega r_*} & \\text{as } r \\to r_+, \\\\  \n",
    "0 & \\text{as } r \\to \\infty.  \n",
    "\\end{cases}$$\n",
    "\n",
    "Introducing $\\phi(r)$ as the smooth part of $\\psi(r)$:  \n",
    "\n",
    "$$\\psi(r) = e^{-i\\omega r_*} \\phi(r),$$\n",
    "\n",
    "the equation transforms to:\n",
    "\n",
    "$$f(r)\\phi''(r) + \\left[f'(r) - 2i\\omega\\right]\\phi'(r) - \\tilde{V}(r) \\phi(r) = 0.$$\n",
    "\n",
    "where $\\tilde{V}(r) = \\frac{V(r)}{f(r)} $. To make coefficients of the equation finite for $r \\in [0, +\\infty)$, we define a new function\n",
    "\n",
    "```math\n",
    "F = \\frac{\\Delta}{r^4} \\,.\n",
    "```\n",
    "\n",
    "Then, we have\n",
    "\n",
    "```math\n",
    "r^2 F(r) \\phi''(r) + \\left[r^2 F'(r)+2 r F(r)-2 i \\omega \\right] \\phi'(r) - \\tilde{V} \\phi(r)  = 0 \\,,\n",
    "```\n",
    "\n",
    "where,\n",
    "\n",
    "```math\n",
    "\\tilde{V}(x) = (x-1) \\left(\\frac{l (l+1) (x-1)}{r_+^2}-F'(x)\\right)+2 F(x) \\,.\n",
    "```\n",
    "\n",
    "For numerical computation, compactify the radial coordinate using:\n",
    "\n",
    "```math\n",
    "x \\equiv 1 - \\frac{r_+}{r} \\,.\n",
    "```\n",
    "\n",
    "Here, $x \\in [0, 1]$. We can transform this equation into a generalized eigenvalue problem\n",
    "\n",
    "```math\n",
    "A \\phi = \\omega B \\phi \\,,\n",
    "```\n",
    "\n",
    "where\n",
    "\n",
    "```math\n",
    "\\begin{align}\n",
    "A &= \\left[ (x-1)^2 F(x) \\right] \\frac{\\partial^2}{\\partial x^2} + \\left[ (x-1)^2 F'(x) \\right]  \\frac{\\partial}{\\partial x} - \\tilde{V} \\,, \\\\\n",
    "B &= \\frac{2 i (x-1)^2}{r_+} \\frac{\\partial}{\\partial x} \\,.\n",
    "\\end{align}\n",
    "```\n",
    "\n",
    "To enforce the boundary condition at $\\phi(x = 1) = 0$, we need to modify the last line of the matrix $B$ to $\\mathcal{B} \\phi = \\mathbf{0}$, where\n",
    "\n",
    "```math\n",
    "\\mathcal{B} = \\left(\\begin{array}{cccc}\n",
    "T_0(1) & T_1(1) & T_2(1) & \\cdots\n",
    "\\end{array}\\right) = \\left(\\begin{array}{cccc}\n",
    "1 & 1 & 1 & \\cdots\n",
    "\\end{array}\\right) \\,.\n",
    "```"
   ]
  },
  {
   "cell_type": "code",
   "execution_count": 38,
   "metadata": {},
   "outputs": [
    {
     "data": {
      "text/plain": [
       "39-element Vector{ComplexF64}:\n",
       "      -2.798223242812926 - 2.6712058259179776im\n",
       "      2.7982232428958094 - 2.6712058258583853im\n",
       "       4.758489239969626 - 5.037569058024075im\n",
       "      -4.758489271825203 - 5.037569088858869im\n",
       "      -6.719272837541509 - 7.3944971365220304im\n",
       "       6.719268963153064 - 7.394504117748148im\n",
       "      -8.682064239957313 - 9.758728552649952im\n",
       "       8.683195318522056 - 9.759466138411545im\n",
       "       7.633774997106999 - 12.593343294902878im\n",
       "      -7.608565160457379 - 12.613001756961257im\n",
       "                         ⋮\n",
       "       23.81936337976662 - 9.025580442952322im\n",
       "  -0.0011010914714505429 - 25.808346826532258im\n",
       "     -26.995926562284616 - 8.344057764969753im\n",
       "       26.99592656215148 - 8.344057766689616im\n",
       "       30.63761229251485 - 7.452225325553942im\n",
       "     -30.637612292646807 - 7.452225325444598im\n",
       "       35.12595504943825 - 6.177853340905617im\n",
       "     -35.125955049453054 - 6.177853340903534im\n",
       " -3.5960151884096195e-10 - 490.5215474410868im"
      ]
     },
     "metadata": {},
     "output_type": "display_data"
    }
   ],
   "source": [
    "l = 0\n",
    "n = 40\n",
    "\n",
    "# domain x ∈ [0, 1]\n",
    "x_min = zero(TF)\n",
    "x_max = one(TF)\n",
    "dom = x_min .. x_max\n",
    "\n",
    "chebSpace = Chebyshev(dom)\n",
    "D = Derivative(chebSpace)\n",
    "conversion1to2 = Conversion(Ultraspherical(1, dom), Ultraspherical(2, dom))\n",
    "\n",
    "x = Fun(chebSpace)\n",
    "F = (r₊ * (r₊^3 / R^2 + r₊ * (x - 1)^2 + 2 * M * (x - 1)^3) + Q^2 * (x - 1)^4) / r₊^4\n",
    "dF = F'\n",
    "\n",
    "# generalized eigenvalue problem A ϕ = ω B ϕ\n",
    "\n",
    "# construct matrix A\n",
    "cA2 = (x - 1)^2 * F\n",
    "cA1 = (x - 1)^2 * dF\n",
    "Vtilde = 2 * F + (x - 1) * (l * (l + 1) * (x - 1) / r₊^2 - dF)\n",
    "A = cA2 * D^2 + cA1 * D - Vtilde\n",
    "Am = @view(A[1:n, 1:n]) |> Matrix |> complex\n",
    "\n",
    "# construct matrix B\n",
    "cB1 = 2im * (x - 1)^2 / r₊\n",
    "B = conversion1to2 * (cB1 * D)\n",
    "Bm = @view(B[1:n, 1:n]) |> Matrix\n",
    "\n",
    "# enforce Dirichlet boundary conditions at x = 1\n",
    "Am[end, :] .= 1\n",
    "Bm[end, :] .= 0\n",
    "\n",
    "# Solve the generalized eigenvalue problem A ϕ = ω B ϕ\n",
    "eigs = eigvals!(Am, Bm; sortby=abs)\n",
    "qnm = filter(x -> !isnan(x) && imag(x) < 0, eigs)"
   ]
  },
  {
   "cell_type": "markdown",
   "metadata": {},
   "source": [
    "# Ensure you perform a convergence test before using the results; this notebook is just a **tutorial**!"
   ]
  }
 ],
 "metadata": {
  "kernelspec": {
   "display_name": "Julia 1.11.3",
   "language": "julia",
   "name": "julia-1.11"
  },
  "language_info": {
   "file_extension": ".jl",
   "mimetype": "application/julia",
   "name": "julia",
   "version": "1.11.3"
  }
 },
 "nbformat": 4,
 "nbformat_minor": 2
}
